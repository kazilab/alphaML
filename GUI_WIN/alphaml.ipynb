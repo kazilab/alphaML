{
 "cells": [
  {
   "cell_type": "markdown",
   "id": "d92da928",
   "metadata": {},
   "source": [
    "# To build a binary classification model"
   ]
  },
  {
   "cell_type": "code",
   "execution_count": null,
   "id": "153c8260",
   "metadata": {},
   "outputs": [],
   "source": [
    "import alphaml_gui"
   ]
  },
  {
   "cell_type": "markdown",
   "id": "05581383",
   "metadata": {},
   "source": [
    "# To make a prediction"
   ]
  },
  {
   "cell_type": "code",
   "execution_count": null,
   "id": "44e7df46",
   "metadata": {},
   "outputs": [],
   "source": [
    "import alphapred_gui"
   ]
  },
  {
   "cell_type": "code",
   "execution_count": null,
   "id": "294c2640",
   "metadata": {},
   "outputs": [],
   "source": []
  }
 ],
 "metadata": {
  "kernelspec": {
   "display_name": "Python 3 (ipykernel)",
   "language": "python",
   "name": "python3"
  },
  "language_info": {
   "codemirror_mode": {
    "name": "ipython",
    "version": 3
   },
   "file_extension": ".py",
   "mimetype": "text/x-python",
   "name": "python",
   "nbconvert_exporter": "python",
   "pygments_lexer": "ipython3",
   "version": "3.10.9"
  }
 },
 "nbformat": 4,
 "nbformat_minor": 5
}
